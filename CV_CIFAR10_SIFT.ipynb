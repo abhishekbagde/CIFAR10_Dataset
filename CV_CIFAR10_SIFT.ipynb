{
 "cells": [
  {
   "cell_type": "markdown",
   "id": "5f33594e-64a6-4d6c-98d9-510b1f092a98",
   "metadata": {},
   "source": [
    "## CV SIFT Method for Image classification"
   ]
  },
  {
   "cell_type": "markdown",
   "id": "8e6f0c74-2c0c-4f65-9a30-5018a6b6e9c2",
   "metadata": {},
   "source": [
    "#### Importing necessary libraries"
   ]
  },
  {
   "cell_type": "code",
   "execution_count": 28,
   "id": "249c3027-2643-4b71-bad0-b60e3aba7e56",
   "metadata": {},
   "outputs": [],
   "source": [
    "import cv2\n",
    "import numpy as np\n",
    "from sklearn.cluster import KMeans\n",
    "from sklearn.svm import SVC\n",
    "from sklearn.model_selection import train_test_split\n",
    "from sklearn.metrics import accuracy_score, hinge_loss\n",
    "from matplotlib import pyplot as plt"
   ]
  },
  {
   "cell_type": "markdown",
   "id": "10995e4e-3790-43aa-8b7a-4195a35569ce",
   "metadata": {},
   "source": [
    "#### Importing the dataset"
   ]
  },
  {
   "cell_type": "code",
   "execution_count": 29,
   "id": "be6506a4-fda2-41f2-8d4b-85c71924c612",
   "metadata": {},
   "outputs": [],
   "source": [
    "from keras.datasets import cifar10\n",
    "(train_data, train_labels), (test_data, test_labels) = cifar10.load_data()"
   ]
  },
  {
   "cell_type": "markdown",
   "id": "0bfa3cdc-dd5a-4688-a3ef-e52486904875",
   "metadata": {},
   "source": [
    "#### Observe Dataset"
   ]
  },
  {
   "cell_type": "code",
   "execution_count": 30,
   "id": "10d704bb-eeba-4c13-a4c0-fbf9baf2f3c6",
   "metadata": {},
   "outputs": [],
   "source": [
    "# Define the class labels\n",
    "class_labels = ['airplane', 'automobile', 'bird', 'cat', 'deer', 'dog', 'frog', 'horse', 'ship', 'truck']\n",
    "train_labels_reshaped = train_labels.reshape(-1, )"
   ]
  },
  {
   "cell_type": "code",
   "execution_count": 31,
   "id": "9d96da75-01de-46b3-9090-51548281d141",
   "metadata": {},
   "outputs": [],
   "source": [
    "def showImage(x, y, index):\n",
    "    plt.figure(figsize=(30,4))\n",
    "    plt.imshow(x[index])\n",
    "    plt.xlabel(class_labels[y[index]])"
   ]
  },
  {
   "cell_type": "code",
   "execution_count": 32,
   "id": "4e138678-88c4-459a-9ae0-a0d2ee7f1e41",
   "metadata": {},
   "outputs": [
    {
     "data": {
      "image/png": "[encoded data removed]",
      "text/plain": [
       "<Figure size 3000x400 with 1 Axes>"
      ]
     },
     "metadata": {},
     "output_type": "display_data"
    }
   ],
   "source": [
    "showImage(train_data, train_labels_reshaped, 11)"
   ]
  },
  {
   "cell_type": "markdown",
   "id": "32a508de-c3b4-4c09-94ce-b74fa37815bc",
   "metadata": {},
   "source": [
    "#### Define the number of clusters for K-Means"
   ]
  },
  {
   "cell_type": "code",
   "execution_count": 33,
   "id": "bf54d7dc",
   "metadata": {},
   "outputs": [],
   "source": [
    "num_clusters = 128"
   ]
  },
  {
   "cell_type": "markdown",
   "id": "90c8f594-1a42-42a6-89a0-14b321a42214",
   "metadata": {},
   "source": [
    "#### Initialize the SIFT detector and descriptor"
   ]
  },
  {
   "cell_type": "code",
   "execution_count": 34,
   "id": "f6f26560",
   "metadata": {},
   "outputs": [],
   "source": [
    "sift = cv2.SIFT_create()"
   ]
  },
  {
   "cell_type": "markdown",
   "id": "035433ee-9869-4f41-84dd-80d2e675a9da",
   "metadata": {},
   "source": [
    "#### Function to extract SIFT features from an image"
   ]
  },
  {
   "cell_type": "code",
   "execution_count": 35,
   "id": "9c2f49e8",
   "metadata": {},
   "outputs": [],
   "source": [
    "def extract_sift_features(image):\n",
    "    kp, des = sift.detectAndCompute(image, None)\n",
    "    return des"
   ]
  },
  {
   "cell_type": "markdown",
   "id": "75ba2e77-9ac0-4167-81be-cbd5356a2b8b",
   "metadata": {},
   "source": [
    "#### Function to build the visual vocabulary"
   ]
  },
  {
   "cell_type": "code",
   "execution_count": 36,
   "id": "249efc42",
   "metadata": {},
   "outputs": [],
   "source": [
    "def build_visual_vocabulary(data):\n",
    "    all_descriptors = []\n",
    "    for image in data:\n",
    "        descriptors = extract_sift_features(image)\n",
    "        if descriptors is not None:\n",
    "            all_descriptors.extend(descriptors)\n",
    "    kmeans = KMeans(n_clusters=num_clusters, random_state=42)\n",
    "    kmeans.fit(np.array(all_descriptors))\n",
    "\n",
    "    # Get the cluster centers (visual words)\n",
    "    visual_words = kmeans.cluster_centers_\n",
    "\n",
    "    return kmeans, visual_words"
   ]
  },
  {
   "cell_type": "markdown",
   "id": "fb4cffc9-d8d3-40cc-a705-ecfe0548161d",
   "metadata": {},
   "source": [
    "#### Function to compute the bag-of-visual-words representation"
   ]
  },
  {
   "cell_type": "code",
   "execution_count": 37,
   "id": "d8a8effe",
   "metadata": {},
   "outputs": [],
   "source": [
    "def compute_bovw(image, vocab):\n",
    "    descriptors = extract_sift_features(image)\n",
    "    if descriptors is None:\n",
    "        return np.zeros(num_clusters)\n",
    "    codes = vocab.predict(descriptors)\n",
    "    histogram, _ = np.histogram(codes, bins=range(num_clusters + 1), density=True)\n",
    "    return histogram"
   ]
  },
  {
   "cell_type": "markdown",
   "id": "e8a8f08f-48ee-4b44-81da-76403f462e5f",
   "metadata": {},
   "source": [
    "#### Build the visual vocabulary"
   ]
  },
  {
   "cell_type": "code",
   "execution_count": 38,
   "id": "41d480ad",
   "metadata": {},
   "outputs": [],
   "source": [
    "# Build the visual vocabulary\n",
    "vocab, visual_words = build_visual_vocabulary(train_data)"
   ]
  },
  {
   "cell_type": "markdown",
   "id": "2aec040a-4d75-44a0-9149-801d56a70626",
   "metadata": {},
   "source": [
    "#### Compute the bag-of-visual-words representations for training and test data"
   ]
  },
  {
   "cell_type": "code",
   "execution_count": 39,
   "id": "7be39ef9",
   "metadata": {},
   "outputs": [],
   "source": [
    "train_bovw = np.array([compute_bovw(image, vocab) for image in train_data])\n",
    "test_bovw = np.array([compute_bovw(image, vocab) for image in test_data])"
   ]
  },
  {
   "cell_type": "markdown",
   "id": "18837285-9757-4efa-8bae-177dfc4b0a51",
   "metadata": {},
   "source": [
    "#### Split the training data into train and validation sets"
   ]
  },
  {
   "cell_type": "code",
   "execution_count": 40,
   "id": "6d9155e1",
   "metadata": {},
   "outputs": [],
   "source": [
    "X_train, X_val, y_train, y_val = train_test_split(train_bovw, train_labels, test_size=0.2, random_state=42)"
   ]
  },
  {
   "cell_type": "markdown",
   "id": "d9c0e640-41e1-4d37-beb1-a2cb3102e6e5",
   "metadata": {},
   "source": [
    "#### Train the SVM classifier"
   ]
  },
  {
   "cell_type": "code",
   "execution_count": 41,
   "id": "77e10d4a-56fe-4ff3-a04f-11227783c21b",
   "metadata": {
    "scrolled": true
   },
   "outputs": [
    {
     "name": "stderr",
     "output_type": "stream",
     "text": [
      "/Users/abhishekbagde/anaconda3/lib/python3.11/site-packages/sklearn/utils/validation.py:1300: DataConversionWarning: A column-vector y was passed when a 1d array was expected. Please change the shape of y to (n_samples, ), for example using ravel().\n",
      "  y = column_or_1d(y, warn=True)\n"
     ]
    },
    {
     "data": {
      "text/html": [
       "<style>#sk-container-id-2 {\n",
       "  /* Definition of color scheme common for light and dark mode */\n",
       "  --sklearn-color-text: black;\n",
       "  --sklearn-color-line: gray;\n",
       "  /* Definition of color scheme for unfitted estimators */\n",
       "  --sklearn-color-unfitted-level-0: #fff5e6;\n",
       "  --sklearn-color-unfitted-level-1: #f6e4d2;\n",
       "  --sklearn-color-unfitted-level-2: #ffe0b3;\n",
       "  --sklearn-color-unfitted-level-3: chocolate;\n",
       "  /* Definition of color scheme for fitted estimators */\n",
       "  --sklearn-color-fitted-level-0: #f0f8ff;\n",
       "  --sklearn-color-fitted-level-1: #d4ebff;\n",
       "  --sklearn-color-fitted-level-2: #b3dbfd;\n",
       "  --sklearn-color-fitted-level-3: cornflowerblue;\n",
       "\n",
       "  /* Specific color for light theme */\n",
       "  --sklearn-color-text-on-default-background: var(--sg-text-color, var(--theme-code-foreground, var(--jp-content-font-color1, black)));\n",
       "  --sklearn-color-background: var(--sg-background-color, var(--theme-background, var(--jp-layout-color0, white)));\n",
       "  --sklearn-color-border-box: var(--sg-text-color, var(--theme-code-foreground, var(--jp-content-font-color1, black)));\n",
       "  --sklearn-color-icon: #696969;\n",
       "\n",
       "  @media (prefers-color-scheme: dark) {\n",
       "    /* Redefinition of color scheme for dark theme */\n",
       "    --sklearn-color-text-on-default-background: var(--sg-text-color, var(--theme-code-foreground, var(--jp-content-font-color1, white)));\n",
       "    --sklearn-color-background: var(--sg-background-color, var(--theme-background, var(--jp-layout-color0, #111)));\n",
       "    --sklearn-color-border-box: var(--sg-text-color, var(--theme-code-foreground, var(--jp-content-font-color1, white)));\n",
       "    --sklearn-color-icon: #878787;\n",
       "  }\n",
       "}\n",
       "\n",
       "#sk-container-id-2 {\n",
       "  color: var(--sklearn-color-text);\n",
       "}\n",
       "\n",
       "#sk-container-id-2 pre {\n",
       "  padding: 0;\n",
       "}\n",
       "\n",
       "#sk-container-id-2 input.sk-hidden--visually {\n",
       "  border: 0;\n",
       "  clip: rect(1px 1px 1px 1px);\n",
       "  clip: rect(1px, 1px, 1px, 1px);\n",
       "  height: 1px;\n",
       "  margin: -1px;\n",
       "  overflow: hidden;\n",
       "  padding: 0;\n",
       "  position: absolute;\n",
       "  width: 1px;\n",
       "}\n",
       "\n",
       "#sk-container-id-2 div.sk-dashed-wrapped {\n",
       "  border: 1px dashed var(--sklearn-color-line);\n",
       "  margin: 0 0.4em 0.5em 0.4em;\n",
       "  box-sizing: border-box;\n",
       "  padding-bottom: 0.4em;\n",
       "  background-color: var(--sklearn-color-background);\n",
       "}\n",
       "\n",
       "#sk-container-id-2 div.sk-container {\n",
       "  /* jupyter's `normalize.less` sets `[hidden] { display: none; }`\n",
       "     but bootstrap.min.css set `[hidden] { display: none !important; }`\n",
       "     so we also need the `!important` here to be able to override the\n",
       "     default hidden behavior on the sphinx rendered scikit-learn.org.\n",
       "     See: https://github.com/scikit-learn/scikit-learn/issues/21755 */\n",
       "  display: inline-block !important;\n",
       "  position: relative;\n",
       "}\n",
       "\n",
       "#sk-container-id-2 div.sk-text-repr-fallback {\n",
       "  display: none;\n",
       "}\n",
       "\n",
       "div.sk-parallel-item,\n",
       "div.sk-serial,\n",
       "div.sk-item {\n",
       "  /* draw centered vertical line to link estimators */\n",
       "  background-image: linear-gradient(var(--sklearn-color-text-on-default-background), var(--sklearn-color-text-on-default-background));\n",
       "  background-size: 2px 100%;\n",
       "  background-repeat: no-repeat;\n",
       "  background-position: center center;\n",
       "}\n",
       "\n",
       "/* Parallel-specific style estimator block */\n",
       "\n",
       "#sk-container-id-2 div.sk-parallel-item::after {\n",
       "  content: \"\";\n",
       "  width: 100%;\n",
       "  border-bottom: 2px solid var(--sklearn-color-text-on-default-background);\n",
       "  flex-grow: 1;\n",
       "}\n",
       "\n",
       "#sk-container-id-2 div.sk-parallel {\n",
       "  display: flex;\n",
       "  align-items: stretch;\n",
       "  justify-content: center;\n",
       "  background-color: var(--sklearn-color-background);\n",
       "  position: relative;\n",
       "}\n",
       "\n",
       "#sk-container-id-2 div.sk-parallel-item {\n",
       "  display: flex;\n",
       "  flex-direction: column;\n",
       "}\n",
       "\n",
       "#sk-container-id-2 div.sk-parallel-item:first-child::after {\n",
       "  align-self: flex-end;\n",
       "  width: 50%;\n",
       "}\n",
       "\n",
       "#sk-container-id-2 div.sk-parallel-item:last-child::after {\n",
       "  align-self: flex-start;\n",
       "  width: 50%;\n",
       "}\n",
       "\n",
       "#sk-container-id-2 div.sk-parallel-item:only-child::after {\n",
       "  width: 0;\n",
       "}\n",
       "\n",
       "/* Serial-specific style estimator block */\n",
       "\n",
       "#sk-container-id-2 div.sk-serial {\n",
       "  display: flex;\n",
       "  flex-direction: column;\n",
       "  align-items: center;\n",
       "  background-color: var(--sklearn-color-background);\n",
       "  padding-right: 1em;\n",
       "  padding-left: 1em;\n",
       "}\n",
       "\n",
       "\n",
       "/* Toggleable style: style used for estimator/Pipeline/ColumnTransformer box that is\n",
       "clickable and can be expanded/collapsed.\n",
       "- Pipeline and ColumnTransformer use this feature and define the default style\n",
       "- Estimators will overwrite some part of the style using the `sk-estimator` class\n",
       "*/\n",
       "\n",
       "/* Pipeline and ColumnTransformer style (default) */\n",
       "\n",
       "#sk-container-id-2 div.sk-toggleable {\n",
       "  /* Default theme specific background. It is overwritten whether we have a\n",
       "  specific estimator or a Pipeline/ColumnTransformer */\n",
       "  background-color: var(--sklearn-color-background);\n",
       "}\n",
       "\n",
       "/* Toggleable label */\n",
       "#sk-container-id-2 label.sk-toggleable__label {\n",
       "  cursor: pointer;\n",
       "  display: block;\n",
       "  width: 100%;\n",
       "  margin-bottom: 0;\n",
       "  padding: 0.5em;\n",
       "  box-sizing: border-box;\n",
       "  text-align: center;\n",
       "}\n",
       "\n",
       "#sk-container-id-2 label.sk-toggleable__label-arrow:before {\n",
       "  /* Arrow on the left of the label */\n",
       "  content: \"▸\";\n",
       "  float: left;\n",
       "  margin-right: 0.25em;\n",
       "  color: var(--sklearn-color-icon);\n",
       "}\n",
       "\n",
       "#sk-container-id-2 label.sk-toggleable__label-arrow:hover:before {\n",
       "  color: var(--sklearn-color-text);\n",
       "}\n",
       "\n",
       "/* Toggleable content - dropdown */\n",
       "\n",
       "#sk-container-id-2 div.sk-toggleable__content {\n",
       "  max-height: 0;\n",
       "  max-width: 0;\n",
       "  overflow: hidden;\n",
       "  text-align: left;\n",
       "  /* unfitted */\n",
       "  background-color: var(--sklearn-color-unfitted-level-0);\n",
       "}\n",
       "\n",
       "#sk-container-id-2 div.sk-toggleable__content.fitted {\n",
       "  /* fitted */\n",
       "  background-color: var(--sklearn-color-fitted-level-0);\n",
       "}\n",
       "\n",
       "#sk-container-id-2 div.sk-toggleable__content pre {\n",
       "  margin: 0.2em;\n",
       "  border-radius: 0.25em;\n",
       "  color: var(--sklearn-color-text);\n",
       "  /* unfitted */\n",
       "  background-color: var(--sklearn-color-unfitted-level-0);\n",
       "}\n",
       "\n",
       "#sk-container-id-2 div.sk-toggleable__content.fitted pre {\n",
       "  /* unfitted */\n",
       "  background-color: var(--sklearn-color-fitted-level-0);\n",
       "}\n",
       "\n",
       "#sk-container-id-2 input.sk-toggleable__control:checked~div.sk-toggleable__content {\n",
       "  /* Expand drop-down */\n",
       "  max-height: 200px;\n",
       "  max-width: 100%;\n",
       "  overflow: auto;\n",
       "}\n",
       "\n",
       "#sk-container-id-2 input.sk-toggleable__control:checked~label.sk-toggleable__label-arrow:before {\n",
       "  content: \"▾\";\n",
       "}\n",
       "\n",
       "/* Pipeline/ColumnTransformer-specific style */\n",
       "\n",
       "#sk-container-id-2 div.sk-label input.sk-toggleable__control:checked~label.sk-toggleable__label {\n",
       "  color: var(--sklearn-color-text);\n",
       "  background-color: var(--sklearn-color-unfitted-level-2);\n",
       "}\n",
       "\n",
       "#sk-container-id-2 div.sk-label.fitted input.sk-toggleable__control:checked~label.sk-toggleable__label {\n",
       "  background-color: var(--sklearn-color-fitted-level-2);\n",
       "}\n",
       "\n",
       "/* Estimator-specific style */\n",
       "\n",
       "/* Colorize estimator box */\n",
       "#sk-container-id-2 div.sk-estimator input.sk-toggleable__control:checked~label.sk-toggleable__label {\n",
       "  /* unfitted */\n",
       "  background-color: var(--sklearn-color-unfitted-level-2);\n",
       "}\n",
       "\n",
       "#sk-container-id-2 div.sk-estimator.fitted input.sk-toggleable__control:checked~label.sk-toggleable__label {\n",
       "  /* fitted */\n",
       "  background-color: var(--sklearn-color-fitted-level-2);\n",
       "}\n",
       "\n",
       "#sk-container-id-2 div.sk-label label.sk-toggleable__label,\n",
       "#sk-container-id-2 div.sk-label label {\n",
       "  /* The background is the default theme color */\n",
       "  color: var(--sklearn-color-text-on-default-background);\n",
       "}\n",
       "\n",
       "/* On hover, darken the color of the background */\n",
       "#sk-container-id-2 div.sk-label:hover label.sk-toggleable__label {\n",
       "  color: var(--sklearn-color-text);\n",
       "  background-color: var(--sklearn-color-unfitted-level-2);\n",
       "}\n",
       "\n",
       "/* Label box, darken color on hover, fitted */\n",
       "#sk-container-id-2 div.sk-label.fitted:hover label.sk-toggleable__label.fitted {\n",
       "  color: var(--sklearn-color-text);\n",
       "  background-color: var(--sklearn-color-fitted-level-2);\n",
       "}\n",
       "\n",
       "/* Estimator label */\n",
       "\n",
       "#sk-container-id-2 div.sk-label label {\n",
       "  font-family: monospace;\n",
       "  font-weight: bold;\n",
       "  display: inline-block;\n",
       "  line-height: 1.2em;\n",
       "}\n",
       "\n",
       "#sk-container-id-2 div.sk-label-container {\n",
       "  text-align: center;\n",
       "}\n",
       "\n",
       "/* Estimator-specific */\n",
       "#sk-container-id-2 div.sk-estimator {\n",
       "  font-family: monospace;\n",
       "  border: 1px dotted var(--sklearn-color-border-box);\n",
       "  border-radius: 0.25em;\n",
       "  box-sizing: border-box;\n",
       "  margin-bottom: 0.5em;\n",
       "  /* unfitted */\n",
       "  background-color: var(--sklearn-color-unfitted-level-0);\n",
       "}\n",
       "\n",
       "#sk-container-id-2 div.sk-estimator.fitted {\n",
       "  /* fitted */\n",
       "  background-color: var(--sklearn-color-fitted-level-0);\n",
       "}\n",
       "\n",
       "/* on hover */\n",
       "#sk-container-id-2 div.sk-estimator:hover {\n",
       "  /* unfitted */\n",
       "  background-color: var(--sklearn-color-unfitted-level-2);\n",
       "}\n",
       "\n",
       "#sk-container-id-2 div.sk-estimator.fitted:hover {\n",
       "  /* fitted */\n",
       "  background-color: var(--sklearn-color-fitted-level-2);\n",
       "}\n",
       "\n",
       "/* Specification for estimator info (e.g. \"i\" and \"?\") */\n",
       "\n",
       "/* Common style for \"i\" and \"?\" */\n",
       "\n",
       ".sk-estimator-doc-link,\n",
       "a:link.sk-estimator-doc-link,\n",
       "a:visited.sk-estimator-doc-link {\n",
       "  float: right;\n",
       "  font-size: smaller;\n",
       "  line-height: 1em;\n",
       "  font-family: monospace;\n",
       "  background-color: var(--sklearn-color-background);\n",
       "  border-radius: 1em;\n",
       "  height: 1em;\n",
       "  width: 1em;\n",
       "  text-decoration: none !important;\n",
       "  margin-left: 1ex;\n",
       "  /* unfitted */\n",
       "  border: var(--sklearn-color-unfitted-level-1) 1pt solid;\n",
       "  color: var(--sklearn-color-unfitted-level-1);\n",
       "}\n",
       "\n",
       ".sk-estimator-doc-link.fitted,\n",
       "a:link.sk-estimator-doc-link.fitted,\n",
       "a:visited.sk-estimator-doc-link.fitted {\n",
       "  /* fitted */\n",
       "  border: var(--sklearn-color-fitted-level-1) 1pt solid;\n",
       "  color: var(--sklearn-color-fitted-level-1);\n",
       "}\n",
       "\n",
       "/* On hover */\n",
       "div.sk-estimator:hover .sk-estimator-doc-link:hover,\n",
       ".sk-estimator-doc-link:hover,\n",
       "div.sk-label-container:hover .sk-estimator-doc-link:hover,\n",
       ".sk-estimator-doc-link:hover {\n",
       "  /* unfitted */\n",
       "  background-color: var(--sklearn-color-unfitted-level-3);\n",
       "  color: var(--sklearn-color-background);\n",
       "  text-decoration: none;\n",
       "}\n",
       "\n",
       "div.sk-estimator.fitted:hover .sk-estimator-doc-link.fitted:hover,\n",
       ".sk-estimator-doc-link.fitted:hover,\n",
       "div.sk-label-container:hover .sk-estimator-doc-link.fitted:hover,\n",
       ".sk-estimator-doc-link.fitted:hover {\n",
       "  /* fitted */\n",
       "  background-color: var(--sklearn-color-fitted-level-3);\n",
       "  color: var(--sklearn-color-background);\n",
       "  text-decoration: none;\n",
       "}\n",
       "\n",
       "/* Span, style for the box shown on hovering the info icon */\n",
       ".sk-estimator-doc-link span {\n",
       "  display: none;\n",
       "  z-index: 9999;\n",
       "  position: relative;\n",
       "  font-weight: normal;\n",
       "  right: .2ex;\n",
       "  padding: .5ex;\n",
       "  margin: .5ex;\n",
       "  width: min-content;\n",
       "  min-width: 20ex;\n",
       "  max-width: 50ex;\n",
       "  color: var(--sklearn-color-text);\n",
       "  box-shadow: 2pt 2pt 4pt #999;\n",
       "  /* unfitted */\n",
       "  background: var(--sklearn-color-unfitted-level-0);\n",
       "  border: .5pt solid var(--sklearn-color-unfitted-level-3);\n",
       "}\n",
       "\n",
       ".sk-estimator-doc-link.fitted span {\n",
       "  /* fitted */\n",
       "  background: var(--sklearn-color-fitted-level-0);\n",
       "  border: var(--sklearn-color-fitted-level-3);\n",
       "}\n",
       "\n",
       ".sk-estimator-doc-link:hover span {\n",
       "  display: block;\n",
       "}\n",
       "\n",
       "/* \"?\"-specific style due to the `<a>` HTML tag */\n",
       "\n",
       "#sk-container-id-2 a.estimator_doc_link {\n",
       "  float: right;\n",
       "  font-size: 1rem;\n",
       "  line-height: 1em;\n",
       "  font-family: monospace;\n",
       "  background-color: var(--sklearn-color-background);\n",
       "  border-radius: 1rem;\n",
       "  height: 1rem;\n",
       "  width: 1rem;\n",
       "  text-decoration: none;\n",
       "  /* unfitted */\n",
       "  color: var(--sklearn-color-unfitted-level-1);\n",
       "  border: var(--sklearn-color-unfitted-level-1) 1pt solid;\n",
       "}\n",
       "\n",
       "#sk-container-id-2 a.estimator_doc_link.fitted {\n",
       "  /* fitted */\n",
       "  border: var(--sklearn-color-fitted-level-1) 1pt solid;\n",
       "  color: var(--sklearn-color-fitted-level-1);\n",
       "}\n",
       "\n",
       "/* On hover */\n",
       "#sk-container-id-2 a.estimator_doc_link:hover {\n",
       "  /* unfitted */\n",
       "  background-color: var(--sklearn-color-unfitted-level-3);\n",
       "  color: var(--sklearn-color-background);\n",
       "  text-decoration: none;\n",
       "}\n",
       "\n",
       "#sk-container-id-2 a.estimator_doc_link.fitted:hover {\n",
       "  /* fitted */\n",
       "  background-color: var(--sklearn-color-fitted-level-3);\n",
       "}\n",
       "</style><div id=\"sk-container-id-2\" class=\"sk-top-container\"><div class=\"sk-text-repr-fallback\"><pre>SVC(kernel=&#x27;linear&#x27;, random_state=42)</pre><b>In a Jupyter environment, please rerun this cell to show the HTML representation or trust the notebook. <br />On GitHub, the HTML representation is unable to render, please try loading this page with nbviewer.org.</b></div><div class=\"sk-container\" hidden><div class=\"sk-item\"><div class=\"sk-estimator fitted sk-toggleable\"><input class=\"sk-toggleable__control sk-hidden--visually\" id=\"sk-estimator-id-2\" type=\"checkbox\" checked><label for=\"sk-estimator-id-2\" class=\"sk-toggleable__label fitted sk-toggleable__label-arrow fitted\">&nbsp;&nbsp;SVC<a class=\"sk-estimator-doc-link fitted\" rel=\"noreferrer\" target=\"_blank\" href=\"https://scikit-learn.org/1.4/modules/generated/sklearn.svm.SVC.html\">?<span>Documentation for SVC</span></a><span class=\"sk-estimator-doc-link fitted\">i<span>Fitted</span></span></label><div class=\"sk-toggleable__content fitted\"><pre>SVC(kernel=&#x27;linear&#x27;, random_state=42)</pre></div> </div></div></div></div>"
      ],
      "text/plain": [
       "SVC(kernel='linear', random_state=42)"
      ]
     },
     "execution_count": 41,
     "metadata": {},
     "output_type": "execute_result"
    }
   ],
   "source": [
    "clf = SVC(kernel='linear', C=1.0, random_state=42)\n",
    "clf.fit(X_train, y_train)"
   ]
  },
  {
   "cell_type": "markdown",
   "id": "0727a23f-2cfc-4221-b2b9-3399a745a17e",
   "metadata": {},
   "source": [
    "#### Evaluate the classifier on the validation set"
   ]
  },
  {
   "cell_type": "code",
   "execution_count": 42,
   "id": "474c9b7d-143f-45d3-8935-7b2c8f3e6bb9",
   "metadata": {
    "scrolled": true
   },
   "outputs": [
    {
     "name": "stdout",
     "output_type": "stream",
     "text": [
      "Validation accuracy: 0.2613\n"
     ]
    }
   ],
   "source": [
    "y_pred = clf.predict(X_val)\n",
    "val_accuracy = accuracy_score(y_val, y_pred)\n",
    "print(f\"Validation accuracy: {val_accuracy:.4f}\")"
   ]
  },
  {
   "cell_type": "markdown",
   "id": "303c8642-c42c-46f5-8aa7-aa9dd07065cc",
   "metadata": {},
   "source": [
    "#### Evaluate the classifier on the test set"
   ]
  },
  {
   "cell_type": "code",
   "execution_count": 43,
   "id": "4e8127d8-e8ae-4a0d-878d-c516dd939b98",
   "metadata": {},
   "outputs": [
    {
     "name": "stdout",
     "output_type": "stream",
     "text": [
      "Test accuracy: 0.2655,  Number of Visual Words: 128\n"
     ]
    }
   ],
   "source": [
    "y_pred = clf.predict(test_bovw)\n",
    "test_accuracy = accuracy_score(test_labels, y_pred)\n",
    "print(f\"Test accuracy: {test_accuracy:.4f},  Number of Visual Words: {len(visual_words)}\")"
   ]
  },
  {
   "cell_type": "markdown",
   "id": "095ad9df-68a6-4644-9c83-c8aeae43a9d1",
   "metadata": {},
   "source": [
    "#### Find the loss"
   ]
  },
  {
   "cell_type": "code",
   "execution_count": 44,
   "id": "869709bc-2744-481c-a5b8-0a3853eb6994",
   "metadata": {},
   "outputs": [
    {
     "name": "stdout",
     "output_type": "stream",
     "text": [
      "Validation loss: 3.6396\n"
     ]
    }
   ],
   "source": [
    "# Calculate the validation loss\n",
    "val_loss = hinge_loss(y_val, clf.decision_function(X_val))\n",
    "print(f\"Validation loss: {val_loss:.4f}\")"
   ]
  },
  {
   "cell_type": "code",
   "execution_count": 56,
   "id": "cbecabec-33f5-4913-beb8-2755fb6018d0",
   "metadata": {},
   "outputs": [
    {
     "name": "stderr",
     "output_type": "stream",
     "text": [
      "/Users/abhishekbagde/anaconda3/lib/python3.11/site-packages/sklearn/utils/validation.py:1300: DataConversionWarning: A column-vector y was passed when a 1d array was expected. Please change the shape of y to (n_samples, ), for example using ravel().\n",
      "  y = column_or_1d(y, warn=True)\n"
     ]
    },
    {
     "name": "stdout",
     "output_type": "stream",
     "text": [
      "Run 1:   kernal: linear, Number of Visual Words: 128 , Test accuracy: 0.2544, Validation loss: 3.7037, C: 0.1, Random Sate: 42\n"
     ]
    },
    {
     "name": "stderr",
     "output_type": "stream",
     "text": [
      "/Users/abhishekbagde/anaconda3/lib/python3.11/site-packages/sklearn/utils/validation.py:1300: DataConversionWarning: A column-vector y was passed when a 1d array was expected. Please change the shape of y to (n_samples, ), for example using ravel().\n",
      "  y = column_or_1d(y, warn=True)\n"
     ]
    },
    {
     "name": "stdout",
     "output_type": "stream",
     "text": [
      "Run 2:   kernal: linear, Number of Visual Words: 128 , Test accuracy: 0.2657, Validation loss: 3.5328, C: 1.0, Random Sate: 42\n"
     ]
    },
    {
     "name": "stderr",
     "output_type": "stream",
     "text": [
      "/Users/abhishekbagde/anaconda3/lib/python3.11/site-packages/sklearn/utils/validation.py:1300: DataConversionWarning: A column-vector y was passed when a 1d array was expected. Please change the shape of y to (n_samples, ), for example using ravel().\n",
      "  y = column_or_1d(y, warn=True)\n"
     ]
    },
    {
     "name": "stdout",
     "output_type": "stream",
     "text": [
      "Run 3:   kernal: linear, Number of Visual Words: 128 , Test accuracy: 0.2672, Validation loss: 3.5030, C: 5.0, Random Sate: 42\n"
     ]
    },
    {
     "name": "stderr",
     "output_type": "stream",
     "text": [
      "/Users/abhishekbagde/anaconda3/lib/python3.11/site-packages/sklearn/utils/validation.py:1300: DataConversionWarning: A column-vector y was passed when a 1d array was expected. Please change the shape of y to (n_samples, ), for example using ravel().\n",
      "  y = column_or_1d(y, warn=True)\n"
     ]
    },
    {
     "name": "stdout",
     "output_type": "stream",
     "text": [
      "Run 4:   kernal: linear, Number of Visual Words: 128 , Test accuracy: 0.2609, Validation loss: 3.4846, C: 10.0, Random Sate: 42\n"
     ]
    },
    {
     "name": "stderr",
     "output_type": "stream",
     "text": [
      "/Users/abhishekbagde/anaconda3/lib/python3.11/site-packages/sklearn/utils/validation.py:1300: DataConversionWarning: A column-vector y was passed when a 1d array was expected. Please change the shape of y to (n_samples, ), for example using ravel().\n",
      "  y = column_or_1d(y, warn=True)\n"
     ]
    },
    {
     "name": "stdout",
     "output_type": "stream",
     "text": [
      "Run 5:   kernal: linear, Number of Visual Words: 128 , Test accuracy: 0.2626, Validation loss: 3.5382, C: 100.0, Random Sate: 42\n"
     ]
    },
    {
     "name": "stderr",
     "output_type": "stream",
     "text": [
      "/Users/abhishekbagde/anaconda3/lib/python3.11/site-packages/sklearn/utils/validation.py:1300: DataConversionWarning: A column-vector y was passed when a 1d array was expected. Please change the shape of y to (n_samples, ), for example using ravel().\n",
      "  y = column_or_1d(y, warn=True)\n"
     ]
    },
    {
     "name": "stdout",
     "output_type": "stream",
     "text": [
      "Run 6:   kernal: rbf, Number of Visual Words: 128 , Test accuracy: 0.2772, Validation loss: 3.2783, C: 0.1, Random Sate: 42\n"
     ]
    },
    {
     "name": "stderr",
     "output_type": "stream",
     "text": [
      "/Users/abhishekbagde/anaconda3/lib/python3.11/site-packages/sklearn/utils/validation.py:1300: DataConversionWarning: A column-vector y was passed when a 1d array was expected. Please change the shape of y to (n_samples, ), for example using ravel().\n",
      "  y = column_or_1d(y, warn=True)\n"
     ]
    },
    {
     "name": "stdout",
     "output_type": "stream",
     "text": [
      "Run 7:   kernal: rbf, Number of Visual Words: 128 , Test accuracy: 0.2908, Validation loss: 2.1612, C: 1.0, Random Sate: 42\n"
     ]
    },
    {
     "name": "stderr",
     "output_type": "stream",
     "text": [
      "/Users/abhishekbagde/anaconda3/lib/python3.11/site-packages/sklearn/utils/validation.py:1300: DataConversionWarning: A column-vector y was passed when a 1d array was expected. Please change the shape of y to (n_samples, ), for example using ravel().\n",
      "  y = column_or_1d(y, warn=True)\n"
     ]
    },
    {
     "name": "stdout",
     "output_type": "stream",
     "text": [
      "Run 8:   kernal: rbf, Number of Visual Words: 128 , Test accuracy: 0.2635, Validation loss: 0.6969, C: 5.0, Random Sate: 42\n"
     ]
    },
    {
     "name": "stderr",
     "output_type": "stream",
     "text": [
      "/Users/abhishekbagde/anaconda3/lib/python3.11/site-packages/sklearn/utils/validation.py:1300: DataConversionWarning: A column-vector y was passed when a 1d array was expected. Please change the shape of y to (n_samples, ), for example using ravel().\n",
      "  y = column_or_1d(y, warn=True)\n"
     ]
    },
    {
     "name": "stdout",
     "output_type": "stream",
     "text": [
      "Run 9:   kernal: rbf, Number of Visual Words: 128 , Test accuracy: 0.2495, Validation loss: 0.2986, C: 10.0, Random Sate: 42\n"
     ]
    },
    {
     "name": "stderr",
     "output_type": "stream",
     "text": [
      "/Users/abhishekbagde/anaconda3/lib/python3.11/site-packages/sklearn/utils/validation.py:1300: DataConversionWarning: A column-vector y was passed when a 1d array was expected. Please change the shape of y to (n_samples, ), for example using ravel().\n",
      "  y = column_or_1d(y, warn=True)\n"
     ]
    },
    {
     "name": "stdout",
     "output_type": "stream",
     "text": [
      "Run 10:   kernal: rbf, Number of Visual Words: 128 , Test accuracy: 0.2431, Validation loss: 0.5118, C: 100.0, Random Sate: 42\n"
     ]
    }
   ],
   "source": [
    "# Initialize an empty list to store the test accuracies\n",
    "test_accuracies = []\n",
    "visual_words_list = []\n",
    "validation_loss_list = []\n",
    "kernel_list = ['linear', 'rbf']\n",
    "num_clusters = 128\n",
    "C = [0.1, 1.0, 5.0, 10.0, 100.0]\n",
    "# Number of runs\n",
    "num_runs = 1\n",
    "random_state = 42\n",
    "\n",
    "# Run the experiment multiple times\n",
    "for run in range(num_runs):\n",
    "    for kernal in kernel_list:\n",
    "            for c in C:\n",
    "                run = run + 1\n",
    "                # Build the visual vocabulary\n",
    "                vocab, visual_words = build_visual_vocabulary(train_data)\n",
    "                \n",
    "                visual_words_list_linear.append(visual_words)\n",
    "            \n",
    "                # Compute the BoVW representations\n",
    "                train_bovw = np.array([compute_bovw(image, vocab) for image in train_data])\n",
    "                test_bovw = np.array([compute_bovw(image, vocab) for image in test_data])\n",
    "                \n",
    "                # Train the SVM classifier\n",
    "                clf = SVC(kernel=kernal, C=c, random_state=random_state)\n",
    "                clf.fit(train_bovw, train_labels)\n",
    "        \n",
    "                # Evaluate the classifier on the test set\n",
    "                y_pred = clf.predict(test_bovw)\n",
    "                test_accuracy = accuracy_score(test_labels, y_pred)\n",
    "            \n",
    "                # Append the test accuracy to the list\n",
    "                test_accuracies.append(test_accuracy)\n",
    "            \n",
    "                # Calculate the validation loss\n",
    "                val_loss = hinge_loss(y_val, clf.decision_function(X_val))\n",
    "            \n",
    "                validation_loss_list.append(val_loss)\n",
    "                \n",
    "                print(f\"Run {run}:   kernal: {kernal}, Number of Visual Words: {len(visual_words)} , Test accuracy: {test_accuracy:.4f}, Validation loss: {val_loss:.4f}, C: {c}, Random Sate: {random_state}\")\n",
    "\n",
    "# Convert the list to a NumPy array\n",
    "test_accuracies_linear = np.array(test_accuracies_linear)"
   ]
  },
  {
   "cell_type": "code",
   "execution_count": 57,
   "id": "6efd18ab-c034-4e21-b8ec-31e3118a9371",
   "metadata": {},
   "outputs": [
    {
     "name": "stdout",
     "output_type": "stream",
     "text": [
      "0.2544\n",
      "0.2657\n",
      "0.2672\n",
      "0.2609\n",
      "0.2626\n",
      "0.2772\n",
      "0.2908\n",
      "0.2635\n",
      "0.2495\n",
      "0.2431\n"
     ]
    }
   ],
   "source": [
    "for i in test_accuracies:\n",
    "    print(i)"
   ]
  },
  {
   "cell_type": "code",
   "execution_count": 58,
   "id": "624fc10f-924f-4680-a304-194f6c480176",
   "metadata": {},
   "outputs": [
    {
     "data": {
      "image/png": "[encoded data removed]",
      "text/plain": [
       "<Figure size 800x600 with 1 Axes>"
      ]
     },
     "metadata": {},
     "output_type": "display_data"
    }
   ],
   "source": [
    "# Plot the test accuracies\n",
    "plt.figure(figsize=(8, 6))\n",
    "plt.plot(range(len(test_accuracies)), test_accuracies)\n",
    "plt.xlabel('Run')\n",
    "plt.ylabel('Test Accuracy')\n",
    "plt.title('Test Accuracy vs. Run')\n",
    "plt.show()"
   ]
  },
  {
   "cell_type": "code",
   "execution_count": 67,
   "id": "8d8b3295-ab17-4e28-804a-cb152ef7f373",
   "metadata": {},
   "outputs": [
    {
     "data": {
      "image/png": "[encoded data removed]",
      "text/plain": [
       "<Figure size 1000x600 with 1 Axes>"
      ]
     },
     "metadata": {},
     "output_type": "display_data"
    }
   ],
   "source": [
    "import pandas as pd\n",
    "import matplotlib.pyplot as plt\n",
    "\n",
    "# Data for each run\n",
    "data = [\n",
    "    {\"Run\": 1, \"Kernel\": \"Linear\", \"Test Accuracy\": 0.2544},\n",
    "    {\"Run\": 2, \"Kernel\": \"Linear\", \"Test Accuracy\": 0.2657},\n",
    "    {\"Run\": 3, \"Kernel\": \"Linear\", \"Test Accuracy\": 0.2672},\n",
    "    {\"Run\": 4, \"Kernel\": \"Linear\", \"Test Accuracy\": 0.2609},\n",
    "    {\"Run\": 5, \"Kernel\": \"Linear\", \"Test Accuracy\": 0.2626},\n",
    "    {\"Run\": 6, \"Kernel\": \"RBF\", \"Test Accuracy\": 0.2772},\n",
    "    {\"Run\": 7, \"Kernel\": \"RBF\", \"Test Accuracy\": 0.2908},\n",
    "    {\"Run\": 8, \"Kernel\": \"RBF\", \"Test Accuracy\": 0.2635},\n",
    "    {\"Run\": 9, \"Kernel\": \"RBF\", \"Test Accuracy\": 0.2495},\n",
    "    {\"Run\": 10, \"Kernel\": \"RBF\", \"Test Accuracy\": 0.2431},\n",
    "]\n",
    "\n",
    "# Convert data to pandas DataFrame\n",
    "df = pd.DataFrame(data)\n",
    "\n",
    "# Plot the graph\n",
    "plt.figure(figsize=(10, 6))\n",
    "for kernel, group in df.groupby(\"Kernel\"):\n",
    "    plt.plot(group[\"Run\"], group[\"Test Accuracy\"], marker='o', label=kernel)\n",
    "plt.xlabel(\"Run\")\n",
    "plt.ylabel(\"Test Accuracy\")\n",
    "plt.title(\"Test Accuracy for Each Run\")\n",
    "plt.xticks(df[\"Run\"])\n",
    "plt.legend()\n",
    "plt.grid(True)\n",
    "plt.show()"
   ]
  },
  {
   "cell_type": "code",
   "execution_count": 68,
   "id": "6ae9d0bf-88aa-498c-b81c-f8809420f0d3",
   "metadata": {},
   "outputs": [
    {
     "data": {
      "image/png": "[encoded data removed]",
      "text/plain": [
       "<Figure size 1000x600 with 1 Axes>"
      ]
     },
     "metadata": {},
     "output_type": "display_data"
    }
   ],
   "source": [
    "import pandas as pd\n",
    "import matplotlib.pyplot as plt\n",
    "\n",
    "# Data for each run\n",
    "data = [\n",
    "    {\"Run\": 1, \"Kernel\": \"Linear\", \"Test Accuracy\": 0.2544, \"C\": 0.1},\n",
    "    {\"Run\": 2, \"Kernel\": \"Linear\", \"Test Accuracy\": 0.2657, \"C\": 1.0},\n",
    "    {\"Run\": 3, \"Kernel\": \"Linear\", \"Test Accuracy\": 0.2672, \"C\": 5.0},\n",
    "    {\"Run\": 4, \"Kernel\": \"Linear\", \"Test Accuracy\": 0.2609, \"C\": 10.0},\n",
    "    {\"Run\": 5, \"Kernel\": \"Linear\", \"Test Accuracy\": 0.2626, \"C\": 100.0},\n",
    "    {\"Run\": 6, \"Kernel\": \"RBF\", \"Test Accuracy\": 0.2772, \"C\": 0.1},\n",
    "    {\"Run\": 7, \"Kernel\": \"RBF\", \"Test Accuracy\": 0.2908, \"C\": 1.0},\n",
    "    {\"Run\": 8, \"Kernel\": \"RBF\", \"Test Accuracy\": 0.2635, \"C\": 5.0},\n",
    "    {\"Run\": 9, \"Kernel\": \"RBF\", \"Test Accuracy\": 0.2495, \"C\": 10.0},\n",
    "    {\"Run\": 10, \"Kernel\": \"RBF\", \"Test Accuracy\": 0.2431, \"C\": 100.0},\n",
    "]\n",
    "\n",
    "# Convert data to pandas DataFrame\n",
    "df = pd.DataFrame(data)\n",
    "\n",
    "# Plot the graph\n",
    "plt.figure(figsize=(10, 6))\n",
    "for kernel, group in df.groupby(\"Kernel\"):\n",
    "    plt.plot(group[\"Run\"], group[\"Test Accuracy\"], marker='o', label=kernel)\n",
    "    for i, (run, row) in enumerate(group.iterrows(), start=1):\n",
    "        plt.annotate(f\"C={row['C']}\", xy=(run, row[\"Test Accuracy\"]), xytext=(5, 5), textcoords='offset points')\n",
    "\n",
    "plt.xlabel(\"Run\")\n",
    "plt.ylabel(\"Test Accuracy\")\n",
    "plt.title(\"Test Accuracy for Each Run\")\n",
    "plt.xticks(df[\"Run\"])\n",
    "plt.legend()\n",
    "plt.grid(True)\n",
    "plt.show()"
   ]
  },
  {
   "cell_type": "markdown",
   "id": "c018a5db-cbd5-479d-9d40-0431faa086f1",
   "metadata": {},
   "source": [
    "#### Check the result"
   ]
  },
  {
   "cell_type": "code",
   "execution_count": 69,
   "id": "61cbfef7-2ef6-4cb5-b926-7b3752df17d2",
   "metadata": {},
   "outputs": [
    {
     "name": "stdout",
     "output_type": "stream",
     "text": [
      "Predicted Result: deer\n",
      "Actual Result:\n"
     ]
    },
    {
     "data": {
      "image/png": "[encoded data removed]",
      "text/plain": [
       "<Figure size 3000x400 with 1 Axes>"
      ]
     },
     "metadata": {},
     "output_type": "display_data"
    }
   ],
   "source": [
    "# Insert the image number\n",
    "image_idx = 40\n",
    "\n",
    "test_labels_reshaped = test_labels.reshape(-1, )\n",
    "# Get the predicted result\n",
    "predicted_class = y_pred[image_idx]\n",
    "print(f\"Predicted Result: {class_labels[predicted_class]}\")\n",
    "\n",
    "# Display the actual image\n",
    "print(\"Actual Result:\")\n",
    "showImage(test_data, train_labels_reshaped, image_idx)"
   ]
  },
  {
   "cell_type": "markdown",
   "id": "52d4db1c-47fc-461b-b5be-27ae32417b67",
   "metadata": {},
   "source": [
    "#### Evaluate Model"
   ]
  },
  {
   "cell_type": "code",
   "execution_count": 70,
   "id": "0c097b93-c60e-4b1f-99f4-41213d6daec5",
   "metadata": {},
   "outputs": [
    {
     "name": "stdout",
     "output_type": "stream",
     "text": [
      "test_data shape: (10000, 32, 32, 3)\n",
      "test_labels shape: (10000,)\n"
     ]
    }
   ],
   "source": [
    "print(\"test_data shape:\", test_data.shape)\n",
    "print(\"test_labels shape:\", test_labels_reshaped.shape)"
   ]
  },
  {
   "cell_type": "code",
   "execution_count": 71,
   "id": "81cf3aa0-eebe-4ca4-a75e-b1bba496a2b1",
   "metadata": {},
   "outputs": [],
   "source": [
    "from keras.utils import to_categorical\n",
    "y_test_one_hot = to_categorical(test_labels_reshaped, num_classes=10)"
   ]
  },
  {
   "cell_type": "code",
   "execution_count": 72,
   "id": "da3a5805-bd62-41db-a895-7d77efa396d8",
   "metadata": {},
   "outputs": [],
   "source": [
    "from sklearn.metrics import classification_report"
   ]
  },
  {
   "cell_type": "code",
   "execution_count": 73,
   "id": "a3ec9322-ffa0-4cf1-b4f7-9d450e0ce999",
   "metadata": {},
   "outputs": [
    {
     "name": "stdout",
     "output_type": "stream",
     "text": [
      "Classification Report:\n",
      "               precision    recall  f1-score   support\n",
      "\n",
      "    airplane       0.32      0.38      0.35      1000\n",
      "  automobile       0.28      0.33      0.31      1000\n",
      "        bird       0.17      0.19      0.18      1000\n",
      "         cat       0.18      0.17      0.18      1000\n",
      "        deer       0.15      0.15      0.15      1000\n",
      "         dog       0.23      0.22      0.22      1000\n",
      "        frog       0.21      0.18      0.19      1000\n",
      "       horse       0.28      0.22      0.25      1000\n",
      "        ship       0.30      0.30      0.30      1000\n",
      "       truck       0.30      0.29      0.29      1000\n",
      "\n",
      "    accuracy                           0.24     10000\n",
      "   macro avg       0.24      0.24      0.24     10000\n",
      "weighted avg       0.24      0.24      0.24     10000\n",
      "\n"
     ]
    }
   ],
   "source": [
    "# Get the classification report for the test set\n",
    "report = classification_report(test_labels, y_pred, target_names=class_labels)\n",
    "print(\"Classification Report:\\n\", report)"
   ]
  },
  {
   "cell_type": "code",
   "execution_count": 74,
   "id": "641a367c-32da-4122-899b-52bfa5406ccb",
   "metadata": {},
   "outputs": [
    {
     "data": {
      "text/plain": [
       "array([[378,  54, 140,  50,  82,  29,  35,  50, 143,  39],\n",
       "       [ 56, 329,  69,  84,  52,  69,  93,  42,  81, 125],\n",
       "       [172,  72, 190,  92, 113,  68,  68,  52, 113,  60],\n",
       "       [ 68, 101,  89, 175, 117, 147,  88,  79,  54,  82],\n",
       "       [ 90,  77, 138,  92, 152,  91, 110,  99,  79,  72],\n",
       "       [ 53,  77,  99, 155, 108, 217,  89,  89,  55,  58],\n",
       "       [ 67, 119, 124,  89, 123, 114, 178,  54,  50,  82],\n",
       "       [ 75,  67,  90, 108, 121,  97,  73, 223,  41, 105],\n",
       "       [163, 105, 100,  70,  79,  40,  51,  34, 301,  57],\n",
       "       [ 42, 155,  56,  79,  64,  70,  80,  80,  86, 288]])"
      ]
     },
     "execution_count": 74,
     "metadata": {},
     "output_type": "execute_result"
    }
   ],
   "source": [
    "# Get the confusion matrix for the test set\n",
    "from sklearn.metrics import confusion_matrix\n",
    "cm = confusion_matrix(test_labels, y_pred)\n",
    "#print(\"Confusion Matrix:\\n\", cm)\n",
    "cm"
   ]
  },
  {
   "cell_type": "code",
   "execution_count": 75,
   "id": "495477e0-2405-45b0-a3db-4c03ae8402e9",
   "metadata": {},
   "outputs": [],
   "source": [
    "import seaborn as sns"
   ]
  },
  {
   "cell_type": "code",
   "execution_count": 76,
   "id": "5a3ced50-7a4a-4874-a37f-862c3581d557",
   "metadata": {},
   "outputs": [
    {
     "data": {
      "image/png": "[encoded data removed]",
      "text/plain": [
       "<Figure size 1400x700 with 2 Axes>"
      ]
     },
     "metadata": {},
     "output_type": "display_data"
    }
   ],
   "source": [
    "plt.figure(figsize=(14,7))\n",
    "sns.heatmap(cm, annot=True, cbar=True)  # Adjust the colormap as needed\n",
    "plt.ylabel(\"Truth\")\n",
    "plt.xlabel(\"Predictions\")\n",
    "plt.title(\"Confusion Matrix CV SIFT CIFAR-10\")\n",
    "plt.show()\n"
   ]
  },
  {
   "cell_type": "code",
   "execution_count": null,
   "id": "baba5005-91bc-419b-a13f-5c322304618f",
   "metadata": {},
   "outputs": [],
   "source": []
  }
 ],
 "metadata": {
  "kernelspec": {
   "display_name": "Python 3 (ipykernel)",
   "language": "python",
   "name": "python3"
  },
  "language_info": {
   "codemirror_mode": {
    "name": "ipython",
    "version": 3
   },
   "file_extension": ".py",
   "mimetype": "text/x-python",
   "name": "python",
   "nbconvert_exporter": "python",
   "pygments_lexer": "ipython3",
   "version": "3.11.5"
  }
 },
 "nbformat": 4,
 "nbformat_minor": 5
}
