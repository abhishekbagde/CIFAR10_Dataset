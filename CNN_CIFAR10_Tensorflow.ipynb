{
 "cells": [
  {
   "cell_type": "markdown",
   "id": "da674449-6f08-4ff0-b26b-313be73dd245",
   "metadata": {},
   "source": [
    "## CNN CIFAR10 TENSORFLOW"
   ]
  },
  {
   "cell_type": "markdown",
   "id": "4e52e794-4710-4a8c-a455-a5977258cd23",
   "metadata": {},
   "source": [
    "#### Import Necesssary Libraries"
   ]
  },
  {
   "cell_type": "code",
   "execution_count": 69,
   "id": "31283063-c8f2-4d17-94b5-041a8190cafd",
   "metadata": {},
   "outputs": [],
   "source": [
    "from tensorflow.keras import Sequential, datasets\n",
    "from tensorflow.keras.layers import Dense, Flatten, Conv2D, MaxPooling2D, Dropout\n",
    "import numpy as np\n",
    "from tensorflow.keras.optimizers import Adam\n",
    "from matplotlib import pyplot as plt\n",
    "import os"
   ]
  },
  {
   "cell_type": "markdown",
   "metadata": {},
   "source": []
  },
  {
   "cell_type": "markdown",
   "id": "4424d957-a898-40ad-becb-489b330be55e",
   "metadata": {},
   "source": [
    "#### Load Dataset"
   ]
  },
  {
   "cell_type": "code",
   "execution_count": 55,
   "id": "04cdcb7e-6b46-4590-ac5a-edef3bc5ee2b",
   "metadata": {},
   "outputs": [],
   "source": [
    "(X_train, y_train), (X_test, y_test) = datasets.cifar10.load_data()"
   ]
  },
  {
   "cell_type": "code",
   "execution_count": 56,
   "id": "61cbb090-5fe9-4d2e-b93c-0d1540111269",
   "metadata": {},
   "outputs": [
    {
     "data": {
      "text/plain": [
       "(50000, 32, 32, 3)"
      ]
     },
     "execution_count": 56,
     "metadata": {},
     "output_type": "execute_result"
    }
   ],
   "source": [
    "X_train.shape"
   ]
  },
  {
   "cell_type": "code",
   "execution_count": 57,
   "id": "f2360360-483b-4ab7-83fd-66e3857fd642",
   "metadata": {},
   "outputs": [
    {
     "data": {
      "text/plain": [
       "(50000, 1)"
      ]
     },
     "execution_count": 57,
     "metadata": {},
     "output_type": "execute_result"
    }
   ],
   "source": [
    "y_train.shape"
   ]
  },
  {
   "cell_type": "code",
   "execution_count": 58,
   "id": "4791e126-5e93-4423-9bbd-514205ca58ba",
   "metadata": {},
   "outputs": [
    {
     "data": {
      "text/plain": [
       "(10000, 32, 32, 3)"
      ]
     },
     "execution_count": 58,
     "metadata": {},
     "output_type": "execute_result"
    }
   ],
   "source": [
    "X_test.shape"
   ]
  },
  {
   "cell_type": "code",
   "execution_count": 59,
   "id": "9a6acca8-ea6a-4f05-a954-ff56b667a01d",
   "metadata": {},
   "outputs": [
    {
     "data": {
      "text/plain": [
       "(10000, 1)"
      ]
     },
     "execution_count": 59,
     "metadata": {},
     "output_type": "execute_result"
    }
   ],
   "source": [
    "y_test.shape"
   ]
  },
  {
   "cell_type": "markdown",
   "id": "e4e3c3a1-be42-4667-b3e5-264c08dfda22",
   "metadata": {},
   "source": [
    "#### Reshape"
   ]
  },
  {
   "cell_type": "code",
   "execution_count": 60,
   "id": "c22c0552-616d-470c-b51e-b2bd3b97e75a",
   "metadata": {},
   "outputs": [],
   "source": [
    "y_train = y_train.reshape(-1, )"
   ]
  },
  {
   "cell_type": "code",
   "execution_count": 61,
   "id": "a51b1abd-aeaf-4248-b7ec-2342a7b5255b",
   "metadata": {},
   "outputs": [
    {
     "data": {
      "text/plain": [
       "array([6, 9, 9, ..., 9, 1, 1], dtype=uint8)"
      ]
     },
     "execution_count": 61,
     "metadata": {},
     "output_type": "execute_result"
    }
   ],
   "source": [
    "y_train"
   ]
  },
  {
   "cell_type": "code",
   "execution_count": 62,
   "id": "b2bfdc54-92ab-445c-87e7-5075d49556a7",
   "metadata": {},
   "outputs": [],
   "source": [
    "y_classes = [\"airplane\", \"automibile\", \"bird\", \"cat\", \"deer\", \"dog\", \"frog\", \"horse\", \"ship\", \"truck\"]"
   ]
  },
  {
   "cell_type": "markdown",
   "id": "ce3054f9-7947-4f4a-8378-9ef3b321ec4f",
   "metadata": {},
   "source": [
    "#### Observe Dataset"
   ]
  },
  {
   "cell_type": "code",
   "execution_count": 63,
   "id": "25ccd20d-0c88-46a8-97c6-00acdb357a87",
   "metadata": {},
   "outputs": [],
   "source": [
    "def showImage(x, y, index):\n",
    "    plt.figure(figsize=(30,4))\n",
    "    plt.imshow(x[index])\n",
    "    plt.xlabel(y_classes[y[index]])"
   ]
  },
  {
   "cell_type": "code",
   "execution_count": 64,
   "id": "ddfeb924-7f9c-4320-822d-f0c1339d2f7a",
   "metadata": {},
   "outputs": [
    {
     "data": {
      "image/png": "[encoded data removed]",
      "text/plain": [
       "<Figure size 3000x400 with 1 Axes>"
      ]
     },
     "metadata": {},
     "output_type": "display_data"
    }
   ],
   "source": [
    "showImage(X_train, y_train, 9)"
   ]
  },
  {
   "cell_type": "markdown",
   "id": "bba9a433-bfdd-4a58-b2ef-e1f75ae3280d",
   "metadata": {},
   "source": [
    "#### Normalise the data"
   ]
  },
  {
   "cell_type": "code",
   "execution_count": 65,
   "id": "85c079b7-7d55-431e-8782-a370d814e382",
   "metadata": {},
   "outputs": [
    {
     "data": {
      "text/plain": [
       "array([[[ 59,  62,  63],\n",
       "        [ 43,  46,  45],\n",
       "        [ 50,  48,  43],\n",
       "        ...,\n",
       "        [158, 132, 108],\n",
       "        [152, 125, 102],\n",
       "        [148, 124, 103]],\n",
       "\n",
       "       [[ 16,  20,  20],\n",
       "        [  0,   0,   0],\n",
       "        [ 18,   8,   0],\n",
       "        ...,\n",
       "        [123,  88,  55],\n",
       "        [119,  83,  50],\n",
       "        [122,  87,  57]],\n",
       "\n",
       "       [[ 25,  24,  21],\n",
       "        [ 16,   7,   0],\n",
       "        [ 49,  27,   8],\n",
       "        ...,\n",
       "        [118,  84,  50],\n",
       "        [120,  84,  50],\n",
       "        [109,  73,  42]],\n",
       "\n",
       "       ...,\n",
       "\n",
       "       [[208, 170,  96],\n",
       "        [201, 153,  34],\n",
       "        [198, 161,  26],\n",
       "        ...,\n",
       "        [160, 133,  70],\n",
       "        [ 56,  31,   7],\n",
       "        [ 53,  34,  20]],\n",
       "\n",
       "       [[180, 139,  96],\n",
       "        [173, 123,  42],\n",
       "        [186, 144,  30],\n",
       "        ...,\n",
       "        [184, 148,  94],\n",
       "        [ 97,  62,  34],\n",
       "        [ 83,  53,  34]],\n",
       "\n",
       "       [[177, 144, 116],\n",
       "        [168, 129,  94],\n",
       "        [179, 142,  87],\n",
       "        ...,\n",
       "        [216, 184, 140],\n",
       "        [151, 118,  84],\n",
       "        [123,  92,  72]]], dtype=uint8)"
      ]
     },
     "execution_count": 65,
     "metadata": {},
     "output_type": "execute_result"
    }
   ],
   "source": [
    "X_train[0]"
   ]
  },
  {
   "cell_type": "code",
   "execution_count": 66,
   "id": "fcde5340-7945-4690-913f-76e09f17689f",
   "metadata": {},
   "outputs": [],
   "source": [
    "X_train = X_train / 255\n",
    "X_test = X_test / 255"
   ]
  },
  {
   "cell_type": "code",
   "execution_count": 67,
   "id": "869a6809-9a4f-418d-bd87-3319f27a6a35",
   "metadata": {},
   "outputs": [
    {
     "data": {
      "text/plain": [
       "array([[[0.23137255, 0.24313725, 0.24705882],\n",
       "        [0.16862745, 0.18039216, 0.17647059],\n",
       "        [0.19607843, 0.18823529, 0.16862745],\n",
       "        ...,\n",
       "        [0.61960784, 0.51764706, 0.42352941],\n",
       "        [0.59607843, 0.49019608, 0.4       ],\n",
       "        [0.58039216, 0.48627451, 0.40392157]],\n",
       "\n",
       "       [[0.0627451 , 0.07843137, 0.07843137],\n",
       "        [0.        , 0.        , 0.        ],\n",
       "        [0.07058824, 0.03137255, 0.        ],\n",
       "        ...,\n",
       "        [0.48235294, 0.34509804, 0.21568627],\n",
       "        [0.46666667, 0.3254902 , 0.19607843],\n",
       "        [0.47843137, 0.34117647, 0.22352941]],\n",
       "\n",
       "       [[0.09803922, 0.09411765, 0.08235294],\n",
       "        [0.0627451 , 0.02745098, 0.        ],\n",
       "        [0.19215686, 0.10588235, 0.03137255],\n",
       "        ...,\n",
       "        [0.4627451 , 0.32941176, 0.19607843],\n",
       "        [0.47058824, 0.32941176, 0.19607843],\n",
       "        [0.42745098, 0.28627451, 0.16470588]],\n",
       "\n",
       "       ...,\n",
       "\n",
       "       [[0.81568627, 0.66666667, 0.37647059],\n",
       "        [0.78823529, 0.6       , 0.13333333],\n",
       "        [0.77647059, 0.63137255, 0.10196078],\n",
       "        ...,\n",
       "        [0.62745098, 0.52156863, 0.2745098 ],\n",
       "        [0.21960784, 0.12156863, 0.02745098],\n",
       "        [0.20784314, 0.13333333, 0.07843137]],\n",
       "\n",
       "       [[0.70588235, 0.54509804, 0.37647059],\n",
       "        [0.67843137, 0.48235294, 0.16470588],\n",
       "        [0.72941176, 0.56470588, 0.11764706],\n",
       "        ...,\n",
       "        [0.72156863, 0.58039216, 0.36862745],\n",
       "        [0.38039216, 0.24313725, 0.13333333],\n",
       "        [0.3254902 , 0.20784314, 0.13333333]],\n",
       "\n",
       "       [[0.69411765, 0.56470588, 0.45490196],\n",
       "        [0.65882353, 0.50588235, 0.36862745],\n",
       "        [0.70196078, 0.55686275, 0.34117647],\n",
       "        ...,\n",
       "        [0.84705882, 0.72156863, 0.54901961],\n",
       "        [0.59215686, 0.4627451 , 0.32941176],\n",
       "        [0.48235294, 0.36078431, 0.28235294]]])"
      ]
     },
     "execution_count": 67,
     "metadata": {},
     "output_type": "execute_result"
    }
   ],
   "source": [
    "X_train[0]"
   ]
  },
  {
   "cell_type": "markdown",
   "id": "22a037fa-1e1c-4ecc-a626-799cf6fa0def",
   "metadata": {},
   "source": [
    "#### Build Model"
   ]
  },
  {
   "cell_type": "code",
   "execution_count": 70,
   "id": "f6ba71e5-5680-4065-a4b0-68b0348c8ef7",
   "metadata": {},
   "outputs": [],
   "source": [
    "model = Sequential()\n",
    "\n",
    "# Add 1st layer\n",
    "model.add(Conv2D(filters=32, kernel_size=(3, 3), activation=\"relu\", input_shape=(32, 32, 3)))\n",
    "model.add(MaxPooling2D(pool_size=(2, 2)))\n",
    "\n",
    "# Add 2nd layer\n",
    "model.add(Conv2D(filters=64, kernel_size=(3, 3), activation=\"relu\"))\n",
    "model.add(MaxPooling2D(pool_size=(2, 2)))\n",
    "\n",
    "# Add 3rd layer\n",
    "model.add(Conv2D(filters=128, kernel_size=(3, 3), activation=\"relu\"))\n",
    "model.add(MaxPooling2D(pool_size=(2, 2)))\n",
    "\n",
    "# Output layer\n",
    "model.add(Flatten())\n",
    "model.add(Dense(units=512, activation=\"relu\"))\n",
    "model.add(Dropout(0.5))  # Adjust dropout rate as needed\n",
    "model.add(Dense(units=10, activation=\"softmax\"))"
   ]
  },
  {
   "cell_type": "markdown",
   "id": "5299c4e1-d14f-4e68-af27-286142f5011b",
   "metadata": {},
   "source": [
    "#### Compile the Model"
   ]
  },
  {
   "cell_type": "markdown",
   "id": "72540123-daf2-427c-9e0a-8b78b9c7c372",
   "metadata": {},
   "source": [
    "##### Optimizer"
   ]
  },
  {
   "cell_type": "code",
   "execution_count": 71,
   "id": "378079fc-c210-4d27-97e8-ec2307b289eb",
   "metadata": {},
   "outputs": [],
   "source": [
    "optimizer = Adam(learning_rate=0.001)  # Adjust the learning rate value as needed"
   ]
  },
  {
   "cell_type": "code",
   "execution_count": 92,
   "id": "886b13e5-b10a-4e01-850a-959f08434a4f",
   "metadata": {},
   "outputs": [],
   "source": [
    "model.compile(\n",
    "    optimizer = optimizer,\n",
    "    loss = \"sparse_categorical_crossentropy\",\n",
    "    metrics=[\"accuracy\"]\n",
    ")"
   ]
  },
  {
   "cell_type": "markdown",
   "id": "b0b96711-3b26-42c0-b593-fcb02f6af884",
   "metadata": {},
   "source": [
    "#### Train Model"
   ]
  },
  {
   "cell_type": "code",
   "execution_count": 73,
   "id": "3bd2696f-5421-4a83-ab37-582713a882d6",
   "metadata": {},
   "outputs": [
    {
     "name": "stdout",
     "output_type": "stream",
     "text": [
      "Epoch 1/10\n",
      "\u001b[1m391/391\u001b[0m \u001b[32m━━━━━━━━━━━━━━━━━━━━\u001b[0m\u001b[37m\u001b[0m \u001b[1m8s\u001b[0m 18ms/step - accuracy: 0.3093 - loss: 1.8611 - val_accuracy: 0.5281 - val_loss: 1.3288\n",
      "Epoch 2/10\n",
      "\u001b[1m391/391\u001b[0m \u001b[32m━━━━━━━━━━━━━━━━━━━━\u001b[0m\u001b[37m\u001b[0m \u001b[1m7s\u001b[0m 17ms/step - accuracy: 0.5222 - loss: 1.3252 - val_accuracy: 0.5940 - val_loss: 1.1403\n",
      "Epoch 3/10\n",
      "\u001b[1m391/391\u001b[0m \u001b[32m━━━━━━━━━━━━━━━━━━━━\u001b[0m\u001b[37m\u001b[0m \u001b[1m7s\u001b[0m 17ms/step - accuracy: 0.6005 - loss: 1.1262 - val_accuracy: 0.6501 - val_loss: 1.0042\n",
      "Epoch 4/10\n",
      "\u001b[1m391/391\u001b[0m \u001b[32m━━━━━━━━━━━━━━━━━━━━\u001b[0m\u001b[37m\u001b[0m \u001b[1m7s\u001b[0m 17ms/step - accuracy: 0.6542 - loss: 0.9858 - val_accuracy: 0.6658 - val_loss: 0.9500\n",
      "Epoch 5/10\n",
      "\u001b[1m391/391\u001b[0m \u001b[32m━━━━━━━━━━━━━━━━━━━━\u001b[0m\u001b[37m\u001b[0m \u001b[1m7s\u001b[0m 17ms/step - accuracy: 0.6880 - loss: 0.8971 - val_accuracy: 0.6719 - val_loss: 0.9346\n",
      "Epoch 6/10\n",
      "\u001b[1m391/391\u001b[0m \u001b[32m━━━━━━━━━━━━━━━━━━━━\u001b[0m\u001b[37m\u001b[0m \u001b[1m7s\u001b[0m 17ms/step - accuracy: 0.7120 - loss: 0.8312 - val_accuracy: 0.6963 - val_loss: 0.8731\n",
      "Epoch 7/10\n",
      "\u001b[1m391/391\u001b[0m \u001b[32m━━━━━━━━━━━━━━━━━━━━\u001b[0m\u001b[37m\u001b[0m \u001b[1m7s\u001b[0m 17ms/step - accuracy: 0.7340 - loss: 0.7562 - val_accuracy: 0.7191 - val_loss: 0.8088\n",
      "Epoch 8/10\n",
      "\u001b[1m391/391\u001b[0m \u001b[32m━━━━━━━━━━━━━━━━━━━━\u001b[0m\u001b[37m\u001b[0m \u001b[1m7s\u001b[0m 18ms/step - accuracy: 0.7560 - loss: 0.6895 - val_accuracy: 0.7170 - val_loss: 0.8119\n",
      "Epoch 9/10\n",
      "\u001b[1m391/391\u001b[0m \u001b[32m━━━━━━━━━━━━━━━━━━━━\u001b[0m\u001b[37m\u001b[0m \u001b[1m7s\u001b[0m 18ms/step - accuracy: 0.7749 - loss: 0.6517 - val_accuracy: 0.7113 - val_loss: 0.8448\n",
      "Epoch 10/10\n",
      "\u001b[1m391/391\u001b[0m \u001b[32m━━━━━━━━━━━━━━━━━━━━\u001b[0m\u001b[37m\u001b[0m \u001b[1m7s\u001b[0m 17ms/step - accuracy: 0.7845 - loss: 0.6160 - val_accuracy: 0.7319 - val_loss: 0.8038\n"
     ]
    }
   ],
   "source": [
    "history = model.fit(X_train, y_train, validation_data=(X_test, y_test), epochs=10, batch_size=128)"
   ]
  },
  {
   "cell_type": "code",
   "execution_count": 74,
   "id": "9420e41e-f404-4ec9-8686-cfb2b4c2b670",
   "metadata": {},
   "outputs": [],
   "source": [
    "# Extract the training and validation loss from the history\n",
    "train_loss = history.history['loss']\n",
    "val_loss = history.history['val_loss']"
   ]
  },
  {
   "cell_type": "code",
   "execution_count": 75,
   "id": "566c7927-84b4-4f68-abf5-e049bb2dd476",
   "metadata": {},
   "outputs": [
    {
     "name": "stdout",
     "output_type": "stream",
     "text": [
      "train_loss : [1.641356348991394, 1.2677385807037354, 1.0981199741363525, 0.98000168800354, 0.8929710388183594, 0.8297983407974243, 0.7623167037963867, 0.7048617005348206, 0.6567032933235168, 0.6244633793830872]\n",
      "val_loss : [1.328771710395813, 1.1403112411499023, 1.0041733980178833, 0.9500377774238586, 0.9346224665641785, 0.8731207251548767, 0.8087683320045471, 0.8118607997894287, 0.8447973728179932, 0.8038071990013123]\n"
     ]
    },
    {
     "data": {
      "image/png": "[encoded data removed]",
      "text/plain": [
       "<Figure size 640x480 with 1 Axes>"
      ]
     },
     "metadata": {},
     "output_type": "display_data"
    }
   ],
   "source": [
    "# Plot the learning curve\n",
    "print(f\"train_loss : {train_loss}\")\n",
    "print(f\"val_loss : {val_loss}\")\n",
    "epochs = range(1, len(train_loss) + 1)\n",
    "plt.plot(epochs, train_loss, 'b', label='Training loss')\n",
    "plt.plot(epochs, val_loss, 'r', label='Validation loss')\n",
    "plt.title('Training and Validation Loss')\n",
    "plt.xlabel('Epochs')\n",
    "plt.ylabel('Loss')\n",
    "plt.legend()\n",
    "plt.show()"
   ]
  },
  {
   "cell_type": "markdown",
   "id": "4ac41355-5d8a-48fa-9c1f-12421cdb825a",
   "metadata": {},
   "source": [
    "#### Make Predictions"
   ]
  },
  {
   "cell_type": "code",
   "execution_count": 76,
   "id": "e76a987b-82cd-4161-bdc7-ebcc99fb04db",
   "metadata": {},
   "outputs": [
    {
     "name": "stdout",
     "output_type": "stream",
     "text": [
      "\u001b[1m313/313\u001b[0m \u001b[32m━━━━━━━━━━━━━━━━━━━━\u001b[0m\u001b[37m\u001b[0m \u001b[1m1s\u001b[0m 2ms/step\n"
     ]
    }
   ],
   "source": [
    "y_predictions = model.predict(X_test)"
   ]
  },
  {
   "cell_type": "code",
   "execution_count": 77,
   "id": "d84c8267-bac0-4947-9f91-88ceb5103885",
   "metadata": {},
   "outputs": [
    {
     "data": {
      "text/plain": [
       "array([1.03845280e-02, 5.09099245e-01, 6.88409855e-05, 1.24459752e-04,\n",
       "       6.13397469e-06, 1.37904435e-05, 1.66718135e-04, 2.38226290e-04,\n",
       "       2.48167058e-03, 4.77416426e-01], dtype=float32)"
      ]
     },
     "execution_count": 77,
     "metadata": {},
     "output_type": "execute_result"
    }
   ],
   "source": [
    "y_predictions[9]"
   ]
  },
  {
   "cell_type": "code",
   "execution_count": 78,
   "id": "890762d9-1435-4eb4-bfa0-e71704a00f44",
   "metadata": {},
   "outputs": [],
   "source": [
    "y_predictions = [np.argmax(arr) for arr in y_predictions]"
   ]
  },
  {
   "cell_type": "code",
   "execution_count": 80,
   "id": "2ce0ba32-0050-44c9-b932-814aa6d3e2fd",
   "metadata": {},
   "outputs": [],
   "source": [
    "y_tes = y_test.reshape(-1, )"
   ]
  },
  {
   "cell_type": "code",
   "execution_count": 100,
   "id": "12bb5c32-aae5-40dd-b343-d19db7c3ab6f",
   "metadata": {},
   "outputs": [
    {
     "name": "stdout",
     "output_type": "stream",
     "text": [
      "Predicted Result: dog\n",
      "Actual Result\n"
     ]
    },
    {
     "data": {
      "image/png": "[encoded data removed]",
      "text/plain": [
       "<Figure size 3000x400 with 1 Axes>"
      ]
     },
     "metadata": {},
     "output_type": "display_data"
    }
   ],
   "source": [
    "#insert any image number\n",
    "from random import randrange\n",
    "image = randrange(10000)\n",
    "\n",
    "#the Predicted result\n",
    "classes = y_predictions[image]\n",
    "print(f\"Predicted Result: {y_classes[classes]}\")\n",
    "\n",
    "\n",
    "#the actual image\n",
    "print(\"Actual Result\")\n",
    "showImage(X_test, y_tes, image)"
   ]
  },
  {
   "cell_type": "markdown",
   "id": "8451ac65-9655-4d64-97d7-46378ec23125",
   "metadata": {},
   "source": [
    "#### Evaluate Model"
   ]
  },
  {
   "cell_type": "code",
   "execution_count": 82,
   "id": "94d6ac01-a848-4d86-8d1d-c243d25bfab8",
   "metadata": {},
   "outputs": [
    {
     "name": "stdout",
     "output_type": "stream",
     "text": [
      "X_test shape: (10000, 32, 32, 3)\n",
      "y_test shape: (10000, 1)\n"
     ]
    }
   ],
   "source": [
    "print(\"X_test shape:\", X_test.shape)\n",
    "print(\"y_test shape:\", y_test.shape)"
   ]
  },
  {
   "cell_type": "code",
   "execution_count": 83,
   "id": "ea3043a8-568c-4d11-ae99-1968a4de209a",
   "metadata": {},
   "outputs": [],
   "source": [
    "from keras.utils import to_categorical\n",
    "y_test_one_hot = to_categorical(y_test, num_classes=10)"
   ]
  },
  {
   "cell_type": "code",
   "execution_count": 84,
   "id": "ebfa4925-0eb2-4c4f-bd01-90e20e9b12cf",
   "metadata": {},
   "outputs": [
    {
     "name": "stdout",
     "output_type": "stream",
     "text": [
      "\u001b[1m313/313\u001b[0m \u001b[32m━━━━━━━━━━━━━━━━━━━━\u001b[0m\u001b[37m\u001b[0m \u001b[1m1s\u001b[0m 4ms/step - accuracy: 0.7407 - loss: 0.7900\n"
     ]
    },
    {
     "data": {
      "text/plain": [
       "[0.8034238219261169, 0.7318999767303467]"
      ]
     },
     "execution_count": 84,
     "metadata": {},
     "output_type": "execute_result"
    }
   ],
   "source": [
    "model.evaluate(X_test, y_test)"
   ]
  },
  {
   "cell_type": "markdown",
   "id": "150589e8-0174-47bf-8419-267836b49a4c",
   "metadata": {},
   "source": [
    "The first value (0.8599853515625) represents the loss value of the model on the test data (X_test and y_test). \n",
    "This value indicates how well the model is performing in terms of its ability to minimize the error between the \n",
    "predicted outputs and the actual labels. In general, lower loss values indicate better performance.\n",
    "\n",
    "The second value (0.7195000052452087) represents the accuracy of the model on the test data. This value indicates \n",
    "the proportion of correctly classified samples in the test dataset. In other words, it represents the model's \n",
    "ability to make correct predictions. Accuracy values range from 0 to 1, where 1 indicates perfect accuracy and \n",
    "0 indicates no accuracy.\n",
    "\n",
    "So, in this case:\n",
    "\n",
    "The loss value is approximately 0.86.\n",
    "The accuracy is approximately 0.7195 or 71.95%."
   ]
  },
  {
   "cell_type": "code",
   "execution_count": 85,
   "id": "bd9b6fc2-0540-45e9-b2e8-8cb92d4ba27b",
   "metadata": {},
   "outputs": [],
   "source": [
    "from sklearn.metrics import classification_report"
   ]
  },
  {
   "cell_type": "code",
   "execution_count": 86,
   "id": "e0d5192d-032f-4c60-818b-530030f283e1",
   "metadata": {},
   "outputs": [
    {
     "name": "stdout",
     "output_type": "stream",
     "text": [
      "              precision    recall  f1-score   support\n",
      "\n",
      "           0       0.77      0.78      0.77      1000\n",
      "           1       0.88      0.82      0.85      1000\n",
      "           2       0.65      0.57      0.61      1000\n",
      "           3       0.63      0.50      0.56      1000\n",
      "           4       0.65      0.70      0.67      1000\n",
      "           5       0.64      0.68      0.66      1000\n",
      "           6       0.65      0.90      0.75      1000\n",
      "           7       0.82      0.71      0.76      1000\n",
      "           8       0.86      0.82      0.84      1000\n",
      "           9       0.82      0.83      0.83      1000\n",
      "\n",
      "    accuracy                           0.73     10000\n",
      "   macro avg       0.74      0.73      0.73     10000\n",
      "weighted avg       0.74      0.73      0.73     10000\n",
      "\n"
     ]
    }
   ],
   "source": [
    "print(classification_report(y_test, y_predictions))"
   ]
  },
  {
   "cell_type": "markdown",
   "id": "14e212ee-c980-45c7-9ec2-a659d7846c76",
   "metadata": {},
   "source": [
    "#### Confusion Matrix"
   ]
  },
  {
   "cell_type": "code",
   "execution_count": 87,
   "id": "e5c98167-befb-48b3-893f-adaadef60bd3",
   "metadata": {},
   "outputs": [],
   "source": [
    "from sklearn.metrics import confusion_matrix"
   ]
  },
  {
   "cell_type": "code",
   "execution_count": 88,
   "id": "5db1397f-1a88-4f12-b6df-cd24ebecbbe6",
   "metadata": {},
   "outputs": [],
   "source": [
    "cm = confusion_matrix(y_test, y_predictions)"
   ]
  },
  {
   "cell_type": "code",
   "execution_count": 89,
   "id": "d7606665-16fd-4dda-8f6c-68a1950c9cfa",
   "metadata": {},
   "outputs": [
    {
     "data": {
      "text/plain": [
       "array([[780,  15,  54,  16,  26,   4,  22,   7,  51,  25],\n",
       "       [ 22, 820,   9,   7,   6,   3,  17,   5,  25,  86],\n",
       "       [ 55,   2, 575,  42, 105,  74, 108,  22,  10,   7],\n",
       "       [ 15,   8,  75, 498,  62, 159, 119,  36,  11,  17],\n",
       "       [ 16,   3,  46,  34, 700,  39, 113,  42,   5,   2],\n",
       "       [ 12,   0,  48, 112,  56, 679,  56,  30,   3,   4],\n",
       "       [  2,   2,  21,  27,  22,  11, 902,   4,   7,   2],\n",
       "       [ 16,   4,  33,  32,  87,  71,  27, 712,   2,  16],\n",
       "       [ 73,  23,  10,  11,  13,   8,  14,   2, 820,  26],\n",
       "       [ 28,  51,   9,  14,   4,   5,  20,  12,  24, 833]])"
      ]
     },
     "execution_count": 89,
     "metadata": {},
     "output_type": "execute_result"
    }
   ],
   "source": [
    "cm"
   ]
  },
  {
   "cell_type": "code",
   "execution_count": 90,
   "id": "5cdb0b13-7e48-4b67-abbb-9b348ac0ce65",
   "metadata": {},
   "outputs": [],
   "source": [
    "import seaborn as sns"
   ]
  },
  {
   "cell_type": "code",
   "execution_count": 91,
   "id": "f125eb18-ec2b-43d8-ad22-baf71d4d9935",
   "metadata": {},
   "outputs": [
    {
     "data": {
      "image/png": "[encoded data removed]",
      "text/plain": [
       "<Figure size 1400x700 with 2 Axes>"
      ]
     },
     "metadata": {},
     "output_type": "display_data"
    }
   ],
   "source": [
    "plt.figure(figsize=(14,7))\n",
    "sns.heatmap(cm, annot=True, cbar=True)  # Adjust the colormap as needed\n",
    "plt.ylabel(\"Truth\")\n",
    "plt.xlabel(\"Predictions\")\n",
    "plt.title(\"Confusion Matrix CNN CIFAR-10\")\n",
    "plt.show()"
   ]
  },
  {
   "cell_type": "code",
   "execution_count": null,
   "id": "7614b536-6cad-4637-b498-fb580c666152",
   "metadata": {},
   "outputs": [],
   "source": []
  }
 ],
 "metadata": {
  "kernelspec": {
   "display_name": "Python 3 (ipykernel)",
   "language": "python",
   "name": "python3"
  },
  "language_info": {
   "codemirror_mode": {
    "name": "ipython",
    "version": 3
   },
   "file_extension": ".py",
   "mimetype": "text/x-python",
   "name": "python",
   "nbconvert_exporter": "python",
   "pygments_lexer": "ipython3",
   "version": "3.11.5"
  }
 },
 "nbformat": 4,
 "nbformat_minor": 5
}
